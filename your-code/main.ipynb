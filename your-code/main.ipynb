{
 "cells": [
  {
   "cell_type": "markdown",
   "metadata": {},
   "source": [
    "# Lab | Numpy Deep Dive"
   ]
  },
  {
   "cell_type": "markdown",
   "metadata": {},
   "source": [
    "### 1. Import the NUMPY package under the name np.\n"
   ]
  },
  {
   "cell_type": "code",
   "execution_count": 11,
   "metadata": {},
   "outputs": [],
   "source": [
    "### [your code here]\n",
    "import numpy as np\n"
   ]
  },
  {
   "cell_type": "markdown",
   "metadata": {},
   "source": [
    "\n",
    "\n",
    "### 2. Print the NUMPY version and the configuration.\n"
   ]
  },
  {
   "cell_type": "code",
   "execution_count": 12,
   "metadata": {},
   "outputs": [
    {
     "name": "stdout",
     "output_type": "stream",
     "text": [
      "1.24.3\n",
      "<function show at 0x0000014302FCD620>\n"
     ]
    }
   ],
   "source": [
    "### [your code here]\n",
    "print(np.__version__ ) # Version\n",
    "print(np.show_config)   # Configuration\n"
   ]
  },
  {
   "cell_type": "code",
   "execution_count": 13,
   "metadata": {},
   "outputs": [
    {
     "data": {
      "text/plain": [
       "array([[1., 0., 0., 0.],\n",
       "       [0., 1., 0., 0.],\n",
       "       [0., 0., 1., 0.],\n",
       "       [0., 0., 0., 1.]])"
      ]
     },
     "execution_count": 13,
     "metadata": {},
     "output_type": "execute_result"
    }
   ],
   "source": [
    "np.eye(4)"
   ]
  },
  {
   "cell_type": "markdown",
   "metadata": {},
   "source": [
    "### 3. Generate a 2x3x5 3-dimensional array with random values. Assign the array to variable \"a\"\n",
    "Challenge: there are at least three easy ways that use numpy to generate random arrays. How many ways can you find?\n"
   ]
  },
  {
   "cell_type": "code",
   "execution_count": 14,
   "metadata": {},
   "outputs": [
    {
     "name": "stdout",
     "output_type": "stream",
     "text": [
      "[[[ 1.03453883  0.86220004  1.5180017   0.07479054  0.0563489 ]\n",
      "  [-0.71614037  0.32000068 -0.22803367  0.13570462 -0.06878828]\n",
      "  [ 1.10560077  0.29238879 -0.56085943 -0.2137864  -0.0780387 ]]\n",
      "\n",
      " [[-1.82788864 -0.16099972  0.96706931 -1.07585738  1.68697687]\n",
      "  [-1.0259493   1.0190101  -0.59072551  0.49053974 -0.34926661]\n",
      "  [-0.04058416 -1.02188729  1.9891519   1.38516603  1.0295095 ]]]\n"
     ]
    }
   ],
   "source": [
    "### [your code here]\n",
    "a = np.random.rand(2,3,5)\n",
    "a1 = np.random.random((2,3,5))\n",
    "a2 = np.random.randint(2,3,5)\n",
    "a3 = np.random.randn(2,3,5)\n",
    "#print(a)\n",
    "#print(a1)\n",
    "#print(a2)\n",
    "print(a3)\n",
    "\n"
   ]
  },
  {
   "cell_type": "markdown",
   "metadata": {},
   "source": [
    "\n",
    "### 4. Print a.\n"
   ]
  },
  {
   "cell_type": "code",
   "execution_count": 15,
   "metadata": {},
   "outputs": [
    {
     "name": "stdout",
     "output_type": "stream",
     "text": [
      "[[[0.47956706 0.00153271 0.82261464 0.99065886 0.69698726]\n",
      "  [0.99179987 0.71616745 0.46377626 0.89051175 0.56348689]\n",
      "  [0.43937923 0.43447615 0.65130721 0.79863778 0.96182595]]\n",
      "\n",
      " [[0.21664478 0.14012084 0.22263437 0.99876599 0.96297795]\n",
      "  [0.09470367 0.10680392 0.60953884 0.01350807 0.35128084]\n",
      "  [0.86724251 0.43724524 0.74939485 0.72368735 0.33638998]]]\n"
     ]
    }
   ],
   "source": [
    "### [your code here]\n",
    "print(a)\n"
   ]
  },
  {
   "cell_type": "markdown",
   "metadata": {},
   "source": [
    "### 5. Create a 5x2x3 3-dimensional array with all values equaling 1.\n",
    "### Assign the array to variable \"b\"\n"
   ]
  },
  {
   "cell_type": "code",
   "execution_count": 16,
   "metadata": {},
   "outputs": [],
   "source": [
    "### [your code here]\n",
    "b = np.full((5,2,3),1)\n",
    "\n"
   ]
  },
  {
   "cell_type": "markdown",
   "metadata": {},
   "source": [
    "\n",
    "### 6. Print b.\n"
   ]
  },
  {
   "cell_type": "code",
   "execution_count": 17,
   "metadata": {},
   "outputs": [
    {
     "name": "stdout",
     "output_type": "stream",
     "text": [
      "[[[1 1 1]\n",
      "  [1 1 1]]\n",
      "\n",
      " [[1 1 1]\n",
      "  [1 1 1]]\n",
      "\n",
      " [[1 1 1]\n",
      "  [1 1 1]]\n",
      "\n",
      " [[1 1 1]\n",
      "  [1 1 1]]\n",
      "\n",
      " [[1 1 1]\n",
      "  [1 1 1]]]\n"
     ]
    }
   ],
   "source": [
    "### [your code here]\n",
    "print(b)\n"
   ]
  },
  {
   "cell_type": "markdown",
   "metadata": {},
   "source": [
    "\n",
    "### 7. Do a and b have the same size? How do you prove that in Python code?\n"
   ]
  },
  {
   "cell_type": "code",
   "execution_count": 18,
   "metadata": {},
   "outputs": [
    {
     "name": "stdout",
     "output_type": "stream",
     "text": [
      "size of a and b are equal True\n"
     ]
    }
   ],
   "source": [
    "### [your code here]\n",
    "print(f\"size of a and b are equal {a.size == b.size}\")\n"
   ]
  },
  {
   "cell_type": "markdown",
   "metadata": {},
   "source": [
    "\n",
    "### 8. Are you able to add a and b? Why or why not?\n"
   ]
  },
  {
   "cell_type": "code",
   "execution_count": 19,
   "metadata": {},
   "outputs": [
    {
     "ename": "ValueError",
     "evalue": "operands could not be broadcast together with shapes (2,3,5) (5,2,3) ",
     "output_type": "error",
     "traceback": [
      "\u001b[1;31m---------------------------------------------------------------------------\u001b[0m",
      "\u001b[1;31mValueError\u001b[0m                                Traceback (most recent call last)",
      "Cell \u001b[1;32mIn[19], line 2\u001b[0m\n\u001b[0;32m      1\u001b[0m \u001b[38;5;66;03m### [your code here]\u001b[39;00m\n\u001b[1;32m----> 2\u001b[0m np\u001b[38;5;241m.\u001b[39madd(a\u001b[38;5;241m+\u001b[39mb)\n",
      "\u001b[1;31mValueError\u001b[0m: operands could not be broadcast together with shapes (2,3,5) (5,2,3) "
     ]
    }
   ],
   "source": [
    "### [your code here]\n",
    "np.add(a+b) # It is not possible because both arrays have different shape"
   ]
  },
  {
   "cell_type": "markdown",
   "metadata": {},
   "source": [
    "\n",
    "\n",
    "### 9. Transpose b so that it has the same structure of a (i.e. become a 2x3x5 array). Assign the transposed array to varialbe \"c\".\n"
   ]
  },
  {
   "cell_type": "code",
   "execution_count": 20,
   "metadata": {},
   "outputs": [],
   "source": [
    "### [your code here]\n",
    "c = b.reshape(2,3,5)\n"
   ]
  },
  {
   "cell_type": "markdown",
   "metadata": {},
   "source": [
    "\n",
    "### 10. Try to add a and c. Now it should work. Assign the sum to variable \"d\". But why does it work now?\n"
   ]
  },
  {
   "cell_type": "code",
   "execution_count": 21,
   "metadata": {},
   "outputs": [
    {
     "name": "stdout",
     "output_type": "stream",
     "text": [
      "[[[1.47956706 1.00153271 1.82261464 1.99065886 1.69698726]\n",
      "  [1.99179987 1.71616745 1.46377626 1.89051175 1.56348689]\n",
      "  [1.43937923 1.43447615 1.65130721 1.79863778 1.96182595]]\n",
      "\n",
      " [[1.21664478 1.14012084 1.22263437 1.99876599 1.96297795]\n",
      "  [1.09470367 1.10680392 1.60953884 1.01350807 1.35128084]\n",
      "  [1.86724251 1.43724524 1.74939485 1.72368735 1.33638998]]]\n"
     ]
    }
   ],
   "source": [
    "### [your code here]\n",
    "d = np.add(a,c)\n",
    "print(d) # Now it gives result because both arrays have same shape\n"
   ]
  },
  {
   "cell_type": "markdown",
   "metadata": {},
   "source": [
    "\n",
    "### 11. Print a and d. Notice the difference and relation of the two array in terms of the values? Explain.\n"
   ]
  },
  {
   "cell_type": "code",
   "execution_count": 23,
   "metadata": {},
   "outputs": [
    {
     "name": "stdout",
     "output_type": "stream",
     "text": [
      "array a [[[0.47956706 0.00153271 0.82261464 0.99065886 0.69698726]\n",
      "  [0.99179987 0.71616745 0.46377626 0.89051175 0.56348689]\n",
      "  [0.43937923 0.43447615 0.65130721 0.79863778 0.96182595]]\n",
      "\n",
      " [[0.21664478 0.14012084 0.22263437 0.99876599 0.96297795]\n",
      "  [0.09470367 0.10680392 0.60953884 0.01350807 0.35128084]\n",
      "  [0.86724251 0.43724524 0.74939485 0.72368735 0.33638998]]]\n",
      "array d [[[1.47956706 1.00153271 1.82261464 1.99065886 1.69698726]\n",
      "  [1.99179987 1.71616745 1.46377626 1.89051175 1.56348689]\n",
      "  [1.43937923 1.43447615 1.65130721 1.79863778 1.96182595]]\n",
      "\n",
      " [[1.21664478 1.14012084 1.22263437 1.99876599 1.96297795]\n",
      "  [1.09470367 1.10680392 1.60953884 1.01350807 1.35128084]\n",
      "  [1.86724251 1.43724524 1.74939485 1.72368735 1.33638998]]]\n"
     ]
    }
   ],
   "source": [
    "### [your code here]\n",
    "print(f\"array a {a}\")\n",
    "print(f\"array d {d}\")\n",
    "\n",
    "# similarity -- both have same shape\n",
    "#difference-- Values of elements in array a is between 0 to 0.99 (approx)\n",
    "#difference-- Values of elements in array d is between 1 to 1.99 (approx)\n",
    "\n",
    "\n"
   ]
  },
  {
   "cell_type": "markdown",
   "metadata": {},
   "source": [
    "\n",
    "### 12. Multiply a and c. Assign the result to e.\n"
   ]
  },
  {
   "cell_type": "code",
   "execution_count": 24,
   "metadata": {},
   "outputs": [
    {
     "data": {
      "text/plain": [
       "array([[[0.47956706, 0.00153271, 0.82261464, 0.99065886, 0.69698726],\n",
       "        [0.99179987, 0.71616745, 0.46377626, 0.89051175, 0.56348689],\n",
       "        [0.43937923, 0.43447615, 0.65130721, 0.79863778, 0.96182595]],\n",
       "\n",
       "       [[0.21664478, 0.14012084, 0.22263437, 0.99876599, 0.96297795],\n",
       "        [0.09470367, 0.10680392, 0.60953884, 0.01350807, 0.35128084],\n",
       "        [0.86724251, 0.43724524, 0.74939485, 0.72368735, 0.33638998]]])"
      ]
     },
     "execution_count": 24,
     "metadata": {},
     "output_type": "execute_result"
    }
   ],
   "source": [
    "### [your code here]\n",
    "e = np.multiply(a,c)\n",
    "e\n"
   ]
  },
  {
   "cell_type": "markdown",
   "metadata": {},
   "source": [
    "\n",
    "\n",
    "### 13. Does e equal to a? Why or why not?\n"
   ]
  },
  {
   "cell_type": "code",
   "execution_count": 25,
   "metadata": {},
   "outputs": [
    {
     "data": {
      "text/plain": [
       "True"
      ]
     },
     "execution_count": 25,
     "metadata": {},
     "output_type": "execute_result"
    }
   ],
   "source": [
    "### [your code here]\n",
    "np.array_equal(e, a)\n",
    "#They are equal because e is multiplication of a with identity matrix \n",
    "\n"
   ]
  },
  {
   "cell_type": "markdown",
   "metadata": {},
   "source": [
    "\n",
    "\n",
    "### 14. Identify the max, min, and mean values in d. Assign those values to variables \"d_max\", \"d_min\", and \"d_mean\"\n"
   ]
  },
  {
   "cell_type": "code",
   "execution_count": 26,
   "metadata": {},
   "outputs": [
    {
     "name": "stdout",
     "output_type": "stream",
     "text": [
      "Max value in d 1.9987659944601166\n",
      "Min value in d 1.0015327097182687\n",
      "Mean value in d 1.557788942431818\n"
     ]
    }
   ],
   "source": [
    "### [your code here]\n",
    "d_max = np.max(d)\n",
    "print(f\"Max value in d {d_max}\")\n",
    "\n",
    "d_min = np.min(d)\n",
    "print(f\"Min value in d {d_min}\")\n",
    "\n",
    "d_mean = np.mean(d)\n",
    "print(f\"Mean value in d {d_mean}\")\n",
    "\n",
    "\n",
    "\n"
   ]
  },
  {
   "cell_type": "markdown",
   "metadata": {},
   "source": [
    "\n",
    "### 15. Now we want to label the values in d. First create an empty array \"f\" with the same shape (i.e. 2x3x5) as d using `np.empty`.\n"
   ]
  },
  {
   "cell_type": "code",
   "execution_count": 27,
   "metadata": {},
   "outputs": [],
   "source": [
    "### [your code here]\n",
    "f = np.empty((2,3,5))\n"
   ]
  },
  {
   "cell_type": "markdown",
   "metadata": {},
   "source": [
    "\n",
    "\n",
    "\n",
    "### 16. Populate the values in f. For each value in d, if it's larger than d_min but smaller than d_mean, assign 25 to the corresponding value in f.\n",
    "If a value in d is larger than d_mean but smaller than d_max, assign 75 to the corresponding value in f.\n",
    "If a value equals to d_mean, assign 50 to the corresponding value in f.\n",
    "Assign 0 to the corresponding value(s) in f for d_min in d.\n",
    "Assign 100 to the corresponding value(s) in f for d_max in d.\n",
    "In the end, f should have only the following values: 0, 25, 50, 75, and 100.\n",
    "Note: you don't have to use Numpy in this question.\n",
    "\n"
   ]
  },
  {
   "cell_type": "code",
   "execution_count": 35,
   "metadata": {},
   "outputs": [
    {
     "data": {
      "text/plain": [
       "3"
      ]
     },
     "execution_count": 35,
     "metadata": {},
     "output_type": "execute_result"
    }
   ],
   "source": [
    "d.shape[1]"
   ]
  },
  {
   "cell_type": "code",
   "execution_count": null,
   "metadata": {},
   "outputs": [
    {
     "name": "stdout",
     "output_type": "stream",
     "text": [
      "[[[ 25.   0.  75.  75.  75.]\n",
      "  [ 75.  75.  25.  75.  75.]\n",
      "  [ 25.  25.  75.  75.  75.]]\n",
      "\n",
      " [[ 25.  25.  25. 100.  75.]\n",
      "  [ 25.  25.  75.  25.  25.]\n",
      "  [ 75.  25.  75.  75.  25.]]]\n",
      "[[[ 25.   0.  75.  75.  75.]\n",
      "  [ 75.  75.  25.  75.  75.]\n",
      "  [ 25.  25.  75.  75.  75.]]\n",
      "\n",
      " [[ 25.  25.  25. 100.  75.]\n",
      "  [ 25.  25.  75.  25.  25.]\n",
      "  [ 75.  25.  75.  75.  25.]]]\n"
     ]
    }
   ],
   "source": [
    "### [your code here]\n",
    "f = np.where(((d>d_min) & (d <d_mean)),25,f)\n",
    "#np.where((d>d_min and d <d_mean),25)\n",
    "#print(f)\n",
    "\n",
    "#d_min = np.min(d)  # Ensure scalar value\n",
    "#d_max = np.max(d)  # Ensure scalar value\n",
    "#d_mean = np.mean(d)  # Ensure scalar value\n",
    "for i in range(2):\n",
    "    for j in range(3):\n",
    "        for k in range(5):\n",
    "            value = d[i,j,k]\n",
    "            if d_min < value < d_mean:\n",
    "                f[i, j, k] = 25\n",
    "            elif value == d_mean:\n",
    "                f[i, j, k] = 50\n",
    "            elif d_mean < value < d_max:\n",
    "                f[i, j, k] = 75\n",
    "            elif value == d_min:\n",
    "                f[i, j, k] = 0\n",
    "            elif value == d_max:\n",
    "                f[i, j, k] = 100\n",
    "    print(f)            \n"
   ]
  },
  {
   "cell_type": "markdown",
   "metadata": {},
   "source": [
    "\n",
    "\n",
    "\n",
    "\n",
    "### 17. Print d and f. Do you have your expected f?\n",
    "For instance, if your d is:\n",
    "array([[[1.85836099, 1.67064465, 1.62576044, 1.40243961, 1.88454931],\n",
    "        [1.75354326, 1.69403643, 1.36729252, 1.61415071, 1.12104981],\n",
    "        [1.72201435, 1.1862918 , 1.87078449, 1.7726778 , 1.88180042]],\n",
    "\n",
    "       [[1.44747908, 1.31673383, 1.02000951, 1.52218947, 1.97066381],\n",
    "        [1.79129243, 1.74983003, 1.96028037, 1.85166831, 1.65450881],\n",
    "        [1.18068344, 1.9587381 , 1.00656599, 1.93402165, 1.73514584]]])\n",
    "\n",
    "Your f should be:\n",
    "array([[[ 75.,  75.,  75.,  25.,  75.],\n",
    "        [ 75.,  75.,  25.,  25.,  25.],\n",
    "        [ 75.,  25.,  75.,  75.,  75.]],\n",
    "\n",
    "       [[ 25.,  25.,  25.,  25., 100.],\n",
    "        [ 75.,  75.,  75.,  75.,  75.],\n",
    "        [ 25.,  75.,   0.,  75.,  75.]]])\n",
    "\n"
   ]
  },
  {
   "cell_type": "code",
   "execution_count": 43,
   "metadata": {},
   "outputs": [
    {
     "name": "stdout",
     "output_type": "stream",
     "text": [
      "[[[ 75.  75.  75.  25.  75.]\n",
      "  [ 75.  75.  25.  25.  25.]\n",
      "  [ 75.  25.  75.  75.  75.]]\n",
      "\n",
      " [[ 25.  25.  25. 100.  75.]\n",
      "  [ 25.  25.  75.  25.  25.]\n",
      "  [ 75.  25.  75.  75.  25.]]]\n",
      "[[[ 75.  75.  75.  25.  75.]\n",
      "  [ 75.  75.  25.  25.  25.]\n",
      "  [ 75.  25.  75.  75.  75.]]\n",
      "\n",
      " [[ 25.  25.  25.  25. 100.]\n",
      "  [ 75.  75.  75.  75.  75.]\n",
      "  [ 25.  75.   0.  75.  75.]]]\n"
     ]
    }
   ],
   "source": [
    "### [your code here]\n",
    "d = np.array(([[[1.85836099, 1.67064465, 1.62576044, 1.40243961, 1.88454931],\n",
    "        [1.75354326, 1.69403643, 1.36729252, 1.61415071, 1.12104981],\n",
    "        [1.72201435, 1.1862918 , 1.87078449, 1.7726778 , 1.88180042]],\n",
    "\n",
    "       [[1.44747908, 1.31673383, 1.02000951, 1.52218947, 1.97066381],\n",
    "        [1.79129243, 1.74983003, 1.96028037, 1.85166831, 1.65450881],\n",
    "        [1.18068344, 1.9587381 , 1.00656599, 1.93402165, 1.73514584]]]))\n",
    "\n",
    "\n",
    "d_min = np.min(d)  # Ensure scalar value\n",
    "d_max = np.max(d)  # Ensure scalar value\n",
    "d_mean = np.mean(d)  # Ensure scalar value\n",
    "for i in range(2):\n",
    "    for j in range(3):\n",
    "        for k in range(5):\n",
    "            value = d[i,j,k]\n",
    "            if d_min < value < d_mean:\n",
    "                f[i, j, k] = 25\n",
    "            elif value == d_mean:\n",
    "                f[i, j, k] = 50\n",
    "            elif d_mean < value < d_max:\n",
    "                f[i, j, k] = 75\n",
    "            elif value == d_min:\n",
    "                f[i, j, k] = 0\n",
    "            elif value == d_max:\n",
    "                f[i, j, k] = 100\n",
    "    print(f)    \n",
    "\n"
   ]
  },
  {
   "cell_type": "markdown",
   "metadata": {},
   "source": [
    "### 18. Bonus question: instead of using numbers (i.e. 0, 25, 50, 75, and 100), how to use string values \n",
    "(\"A\", \"B\", \"C\", \"D\", and \"E\") to label the array elements? You are expecting the result to be:\n",
    "array([[[ 'D',  'D',  'D',  'B',  'D'],\n",
    "        [ 'D',  'D',  'B',  'B',  'B'],\n",
    "        [ 'D',  'B',  'D',  'D',  'D']],\n",
    "\n",
    "       [[ 'B',  'B',  'B',  'B',  'E'],\n",
    "        [ 'D',  'D',  'D',  'D',  'D'],\n",
    "        [ 'B',  'D',   'A',  'D', 'D']]])\n",
    "Again, you don't need Numpy in this question."
   ]
  },
  {
   "cell_type": "code",
   "execution_count": 46,
   "metadata": {},
   "outputs": [
    {
     "name": "stdout",
     "output_type": "stream",
     "text": [
      "[[['D' 'D' 'D' 'B' 'D']\n",
      "  ['D' 'D' 'B' 'B' 'B']\n",
      "  ['D' 'B' 'D' 'D' 'D']]\n",
      "\n",
      " [['B' 'B' 'B' 'B' 'E']\n",
      "  ['D' 'D' 'D' 'D' 'D']\n",
      "  ['B' 'D' 'A' 'D' 'D']]]\n"
     ]
    }
   ],
   "source": [
    "### [your code here]\n",
    "d = np.array(([[[1.85836099, 1.67064465, 1.62576044, 1.40243961, 1.88454931],\n",
    "        [1.75354326, 1.69403643, 1.36729252, 1.61415071, 1.12104981],\n",
    "        [1.72201435, 1.1862918 , 1.87078449, 1.7726778 , 1.88180042]],\n",
    "\n",
    "       [[1.44747908, 1.31673383, 1.02000951, 1.52218947, 1.97066381],\n",
    "        [1.79129243, 1.74983003, 1.96028037, 1.85166831, 1.65450881],\n",
    "        [1.18068344, 1.9587381 , 1.00656599, 1.93402165, 1.73514584]]]))\n",
    "\n",
    "\n",
    "f = np.empty(d.shape, dtype=object)        \n",
    "\n",
    "\n",
    "d_min = np.min(d)  # Ensure scalar value\n",
    "d_max = np.max(d)  # Ensure scalar value\n",
    "d_mean = np.mean(d)  # Ensure scalar value\n",
    "for i in range(2):\n",
    "    for j in range(3):\n",
    "        for k in range(5):\n",
    "            value = d[i,j,k]\n",
    "            if d_min < value < d_mean:\n",
    "                f[i, j, k] = \"B\"\n",
    "            elif value == d_mean:\n",
    "                f[i, j, k] = \"C\"\n",
    "            elif d_mean < value < d_max:\n",
    "                f[i, j, k] = \"D\"\n",
    "            elif value == d_min:\n",
    "                f[i, j, k] = \"A\"\n",
    "            elif value == d_max:\n",
    "                f[i, j, k] = \"E\"\n",
    "print(f)    \n",
    "\n"
   ]
  },
  {
   "cell_type": "code",
   "execution_count": null,
   "metadata": {},
   "outputs": [],
   "source": []
  }
 ],
 "metadata": {
  "kernelspec": {
   "display_name": "Python 3",
   "language": "python",
   "name": "python3"
  },
  "language_info": {
   "codemirror_mode": {
    "name": "ipython",
    "version": 3
   },
   "file_extension": ".py",
   "mimetype": "text/x-python",
   "name": "python",
   "nbconvert_exporter": "python",
   "pygments_lexer": "ipython3",
   "version": "3.11.5"
  }
 },
 "nbformat": 4,
 "nbformat_minor": 2
}
